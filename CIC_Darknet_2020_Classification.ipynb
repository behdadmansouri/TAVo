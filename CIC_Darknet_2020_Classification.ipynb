{
  "cells": [
    {
      "cell_type": "code",
      "execution_count": 266,
      "id": "4ecfdbb7-703d-41bd-9a4c-7693cbca54f6",
      "metadata": {
        "id": "4ecfdbb7-703d-41bd-9a4c-7693cbca54f6"
      },
      "outputs": [],
      "source": [
        "import warnings\n",
        "warnings.filterwarnings(\"ignore\")\n",
        "\n",
        "\n",
        "import pandas as pd\n",
        "import numpy as np\n",
        "from sklearn.model_selection import train_test_split\n",
        "from sklearn.preprocessing import StandardScaler\n",
        "from imblearn.under_sampling import CondensedNearestNeighbour, RandomUnderSampler\n",
        "from imblearn.over_sampling import SMOTE, SMOTENC"
      ]
    },
    {
      "cell_type": "code",
      "execution_count": 267,
      "id": "b64f4bc1-f9e5-44d4-ba8b-936809482bb5",
      "metadata": {
        "colab": {
          "base_uri": "https://localhost:8080/"
        },
        "id": "b64f4bc1-f9e5-44d4-ba8b-936809482bb5",
        "outputId": "31fe05d5-9d01-4b93-f748-faf0038dfa99"
      },
      "outputs": [
        {
          "name": "stderr",
          "output_type": "stream",
          "text": [
            "Skipping line 328: expected 85 fields, saw 125\n",
            "\n"
          ]
        },
        {
          "data": {
            "text/plain": [
              "array(['Audio-Streaming', 'Browsing', 'Chat', 'Email', 'File-Transfer',\n",
              "       'P2P', 'Video-Streaming', 'VOIP'], dtype=object)"
            ]
          },
          "execution_count": 267,
          "metadata": {},
          "output_type": "execute_result"
        }
      ],
      "source": [
        "data = pd.read_csv(\"Darknet.CSV\", low_memory=False, parse_dates=[\"Timestamp\"], error_bad_lines=False)\n",
        "\n",
        "def display_all(df): # tip: you can transpose before giving input!\n",
        "    with pd.option_context(\"display.max_rows\", 1000, \"display.max_columns\", 1000): \n",
        "        print(\"The shape is: \", data.shape)\n",
        "        data.info()\n",
        "        data.dtypes\n",
        "        display(df)\n",
        "        \n",
        "\n",
        "def display_types(df):\n",
        "    print(df[\"Level1\"].unique())\n",
        "    print(df[\"Level2\"].unique())\n",
        "    print(df.groupby(\"Level1\")[\"Level2\"].unique())\n",
        "    print(df.groupby(\"Level1\")[\"Level2\"].nunique())\n",
        "    \n",
        "# TODO drop VPN\n",
        "data.drop([\"Flow ID\"],axis = 1,inplace = True)\n",
        "data.drop([\"Src IP\"],axis = 1,inplace = True)\n",
        "data.drop([\"Dst IP\"],axis = 1,inplace = True)\n",
        "data.drop([\"Src Port\"],axis = 1,inplace = True)\n",
        "data.drop([\"Dst Port\"],axis = 1,inplace = True)\n",
        "data.drop([\"Flow Duration\"],axis = 1,inplace = True)\n",
        "data.drop([\"Timestamp\"],axis = 1,inplace = True)\n",
        "# data.drop_duplicates(subset=None, keep='first', inplace=True, ignore_index=False)\n",
        "# data = data.loc[:, internet_ds_test.apply(pd.Series.nunique) != 1]\n",
        "data.isnull().sum()\n",
        "\n",
        "data.rename(columns = {\"Label\" : \"Level1\", \"Label.1\" : \"Level2\"}, inplace = True)\n",
        "# data.rename({'Level2': {\"AUDIO-STREAMING\" : \"Audio-Streaming\", \"Audio-streaming\" : \"Audio-Streaming\", \"Video-streaming\" : \"Video-Streaming\", \"File-transfer\" : \"File-Transfer\"}}, inplace = True)\n",
        "data['Level2'].loc[data['Level2'] == 'AUDIO-STREAMING'] = 'Audio-Streaming'\n",
        "data['Level2'].loc[data['Level2'] == 'Audio-streaming'] = 'Audio-Streaming'\n",
        "data['Level2'].loc[data['Level2'] == 'File-transfer'] = 'File-Transfer'\n",
        "data['Level2'].loc[data['Level2'] == 'Video-streaming'] = 'Video-Streaming'\n",
        "data[\"Level2\"].unique()\n",
        "# samples[real_columns] = samples[real_columns].replace([np.inf, -np.inf], np.nan)\n",
        "# samples[real_columns] = samples[real_columns].dropna()"
      ]
    },
    {
      "cell_type": "code",
      "execution_count": 268,
      "id": "c402410c-13cf-4923-ab4a-318a98804811",
      "metadata": {
        "colab": {
          "base_uri": "https://localhost:8080/"
        },
        "id": "c402410c-13cf-4923-ab4a-318a98804811",
        "outputId": "660b5169-ed74-4cc2-f3cf-4134c39aae08"
      },
      "outputs": [
        {
          "name": "stdout",
          "output_type": "stream",
          "text": [
            "Memory usage after optimization is: 31.31 MB\n",
            "Decreased by 62.8%\n"
          ]
        }
      ],
      "source": [
        "start_mem = data.memory_usage().sum() / 1024**2 # start mem for comparison later\n",
        "\n",
        "for col in data.columns:\n",
        "    col_type = data[col].dtypes\n",
        "    if col_type in ['int16', 'int32', 'int64', 'float16', 'float32', 'float64']:\n",
        "        c_min = data[col].min()\n",
        "        c_max = data[col].max()\n",
        "        if str(col_type)[:3] == 'int': # if it's int\n",
        "            if c_min > np.iinfo(np.int8).min and c_max < np.iinfo(np.int8).max: # if it can be int8, make it int8\n",
        "                data[col] = data[col].astype(np.int8)\n",
        "            elif c_min > np.iinfo(np.int16).min and c_max < np.iinfo(np.int16).max: # if it can be int16, make it int16\n",
        "                data[col] = data[col].astype(np.int16)\n",
        "            elif c_min > np.iinfo(np.int32).min and c_max < np.iinfo(np.int32).max: # so on\n",
        "                data[col] = data[col].astype(np.int32)\n",
        "            elif c_min > np.iinfo(np.int64).min and c_max < np.iinfo(np.int64).max:\n",
        "                data[col] = data[col].astype(np.int64)\n",
        "        else: # if it's float\n",
        "            if c_min > np.finfo(np.float16).min and c_max < np.finfo(np.float16).max: # if it can be float16, make it float16\n",
        "                data[col] = data[col].astype(np.float16)\n",
        "            elif c_min > np.finfo(np.float32).min and c_max < np.finfo(np.float32).max: # so on\n",
        "                data[col] = data[col].astype(np.float32)\n",
        "            else:\n",
        "                data[col] = data[col].astype(np.float64)\n",
        "\n",
        "end_mem = data.memory_usage().sum() / 1024**2 # end mem for comparison later\n",
        "\n",
        "print('Memory usage after optimization is: {:.2f} MB'.format(end_mem))\n",
        "print('Decreased by {:.1f}%'.format(100 * (start_mem - end_mem) / start_mem))"
      ]
    },
    {
      "cell_type": "markdown",
      "id": "7b51358c-6066-4f78-a0d0-807ea45f9fd7",
      "metadata": {
        "id": "7b51358c-6066-4f78-a0d0-807ea45f9fd7"
      },
      "source": [
        "# Split"
      ]
    },
    {
      "cell_type": "code",
      "execution_count": 269,
      "id": "16443b0f",
      "metadata": {},
      "outputs": [
        {
          "data": {
            "text/plain": [
              "0"
            ]
          },
          "execution_count": 269,
          "metadata": {},
          "output_type": "execute_result"
        }
      ],
      "source": [
        "copied = data.copy(deep=True)\n",
        "copied.replace([np.inf, -np.inf], np.nan, inplace=True)\n",
        "copied = copied.dropna()\n",
        "copied.isnull().sum().sum()"
      ]
    },
    {
      "cell_type": "code",
      "execution_count": 270,
      "id": "881c8fb8",
      "metadata": {},
      "outputs": [],
      "source": [
        "copied = copied[(copied.Level1 == 'Tor') | (copied.Level1 == 'Non-Tor')]  "
      ]
    },
    {
      "cell_type": "code",
      "execution_count": 271,
      "id": "539b400f",
      "metadata": {},
      "outputs": [],
      "source": [
        "Y = copied[[\"Level1\", \"Level2\"]]\n",
        "X = copied.drop([\"Level1\", \"Level2\"], axis=1)"
      ]
    },
    {
      "cell_type": "code",
      "execution_count": 272,
      "id": "77fb2cfd",
      "metadata": {},
      "outputs": [],
      "source": [
        "Y.replace('Tor', 1, inplace=True)               #Converting strings to binary classes 0 or 1\n",
        "Y.replace('Non-Tor', 0, inplace=True)"
      ]
    },
    {
      "cell_type": "code",
      "execution_count": 273,
      "id": "dcdada5b",
      "metadata": {},
      "outputs": [],
      "source": [
        "from sklearn.preprocessing import LabelEncoder\n",
        "\n",
        "def categorise(row):\n",
        "    if row['Level1'] == 1:\n",
        "        return f\"Tor {row['Level2']}\"\n",
        "    else:\n",
        "        return 'Non-Tor'\n",
        "    \n",
        "\n",
        "Y['Level2'] = Y.apply(lambda row: categorise(row), axis = 1)\n",
        "\n",
        "le = LabelEncoder()\n",
        "Y['Level2'] = le.fit_transform(Y['Level2'])"
      ]
    },
    {
      "cell_type": "code",
      "execution_count": 274,
      "id": "abd76468",
      "metadata": {},
      "outputs": [],
      "source": [
        "#X_train__test, X_application, Y_train_test, Y_application = train_test_split(X, Y, test_size=0.30, random_state=42, stratify=Y['Level2'])\n",
        "#X_train, X_test, Y_train, Y_test = train_test_split(X_train__test, Y_train_test, test_size=0.30, random_state=42, stratify=Y_train_test['Level2'])"
      ]
    },
    {
      "cell_type": "code",
      "execution_count": 275,
      "id": "ae09e6aa",
      "metadata": {},
      "outputs": [],
      "source": [
        "X_train, X_test, Y_train, Y_test = train_test_split(X, Y, test_size=0.35, random_state=42, stratify=Y['Level2'])\n"
      ]
    },
    {
      "cell_type": "code",
      "execution_count": 276,
      "id": "bee998ba",
      "metadata": {},
      "outputs": [],
      "source": [
        "scaler = StandardScaler()\n",
        "X_train = scaler.fit_transform(X_train)\n",
        "X_test = scaler.transform(X_test)"
      ]
    },
    {
      "cell_type": "markdown",
      "id": "37dc836e",
      "metadata": {},
      "source": [
        "# Training and Testing Models\n",
        "## Layer 1"
      ]
    },
    {
      "cell_type": "markdown",
      "id": "acec3265",
      "metadata": {},
      "source": [
        "Undersampling minority classes from layer 2"
      ]
    },
    {
      "cell_type": "code",
      "execution_count": 277,
      "id": "bc213657",
      "metadata": {},
      "outputs": [],
      "source": [
        "Y_train_l = Y_train['Level1']\n",
        "Y_test_l = Y_test['Level1']"
      ]
    },
    {
      "cell_type": "code",
      "execution_count": 278,
      "id": "849eab54",
      "metadata": {},
      "outputs": [],
      "source": [
        "import copy\n",
        "from copy import deepcopy\n",
        "Y_train_2 = Y_train['Level2']\n",
        "Y_test_2 = Y_test['Level2']\n",
        "Y_train_c = Y_train_2.copy(deep=True)\n",
        "Y_test_c = Y_test_2.copy(deep=True)\n",
        "X_train_c = deepcopy(X_train)\n",
        "X_test_c = deepcopy(X_test)"
      ]
    },
    {
      "cell_type": "code",
      "execution_count": 279,
      "id": "da2eb97b",
      "metadata": {},
      "outputs": [
        {
          "data": {
            "text/html": [
              "<div>\n",
              "<style scoped>\n",
              "    .dataframe tbody tr th:only-of-type {\n",
              "        vertical-align: middle;\n",
              "    }\n",
              "\n",
              "    .dataframe tbody tr th {\n",
              "        vertical-align: top;\n",
              "    }\n",
              "\n",
              "    .dataframe thead th {\n",
              "        text-align: right;\n",
              "    }\n",
              "</style>\n",
              "<table border=\"1\" class=\"dataframe\">\n",
              "  <thead>\n",
              "    <tr style=\"text-align: right;\">\n",
              "      <th></th>\n",
              "      <th>Protocol</th>\n",
              "      <th>Total Fwd Packet</th>\n",
              "      <th>Total Bwd packets</th>\n",
              "      <th>Total Length of Fwd Packet</th>\n",
              "      <th>Total Length of Bwd Packet</th>\n",
              "      <th>Fwd Packet Length Max</th>\n",
              "      <th>Fwd Packet Length Min</th>\n",
              "      <th>Fwd Packet Length Mean</th>\n",
              "      <th>Fwd Packet Length Std</th>\n",
              "      <th>Bwd Packet Length Max</th>\n",
              "      <th>...</th>\n",
              "      <th>Fwd Seg Size Min</th>\n",
              "      <th>Active Mean</th>\n",
              "      <th>Active Std</th>\n",
              "      <th>Active Max</th>\n",
              "      <th>Active Min</th>\n",
              "      <th>Idle Mean</th>\n",
              "      <th>Idle Std</th>\n",
              "      <th>Idle Max</th>\n",
              "      <th>Idle Min</th>\n",
              "      <th>Level2</th>\n",
              "    </tr>\n",
              "  </thead>\n",
              "  <tbody>\n",
              "    <tr>\n",
              "      <th>23</th>\n",
              "      <td>-0.538252</td>\n",
              "      <td>0.348746</td>\n",
              "      <td>1.390101</td>\n",
              "      <td>-0.012513</td>\n",
              "      <td>1.894551</td>\n",
              "      <td>1.667111</td>\n",
              "      <td>-0.34011</td>\n",
              "      <td>0.230870</td>\n",
              "      <td>0.966091</td>\n",
              "      <td>2.486498</td>\n",
              "      <td>...</td>\n",
              "      <td>0.536571</td>\n",
              "      <td>0.0</td>\n",
              "      <td>0.0</td>\n",
              "      <td>0.0</td>\n",
              "      <td>0.0</td>\n",
              "      <td>0.850792</td>\n",
              "      <td>-0.323858</td>\n",
              "      <td>0.784613</td>\n",
              "      <td>0.989751</td>\n",
              "      <td>1</td>\n",
              "    </tr>\n",
              "    <tr>\n",
              "      <th>40</th>\n",
              "      <td>-0.538252</td>\n",
              "      <td>0.559123</td>\n",
              "      <td>1.347446</td>\n",
              "      <td>0.040394</td>\n",
              "      <td>1.582890</td>\n",
              "      <td>2.498054</td>\n",
              "      <td>-0.34011</td>\n",
              "      <td>0.541941</td>\n",
              "      <td>1.441745</td>\n",
              "      <td>2.486498</td>\n",
              "      <td>...</td>\n",
              "      <td>0.536571</td>\n",
              "      <td>0.0</td>\n",
              "      <td>0.0</td>\n",
              "      <td>0.0</td>\n",
              "      <td>0.0</td>\n",
              "      <td>0.822694</td>\n",
              "      <td>-0.323858</td>\n",
              "      <td>0.757137</td>\n",
              "      <td>0.963093</td>\n",
              "      <td>8</td>\n",
              "    </tr>\n",
              "    <tr>\n",
              "      <th>70</th>\n",
              "      <td>-0.538252</td>\n",
              "      <td>3.887289</td>\n",
              "      <td>3.021320</td>\n",
              "      <td>3.317215</td>\n",
              "      <td>0.655163</td>\n",
              "      <td>2.415578</td>\n",
              "      <td>-0.34011</td>\n",
              "      <td>4.887389</td>\n",
              "      <td>2.987417</td>\n",
              "      <td>2.569592</td>\n",
              "      <td>...</td>\n",
              "      <td>0.536571</td>\n",
              "      <td>0.0</td>\n",
              "      <td>0.0</td>\n",
              "      <td>0.0</td>\n",
              "      <td>0.0</td>\n",
              "      <td>0.850774</td>\n",
              "      <td>-0.323858</td>\n",
              "      <td>0.784595</td>\n",
              "      <td>0.989734</td>\n",
              "      <td>6</td>\n",
              "    </tr>\n",
              "    <tr>\n",
              "      <th>151</th>\n",
              "      <td>-0.538252</td>\n",
              "      <td>-0.076333</td>\n",
              "      <td>-0.085633</td>\n",
              "      <td>-0.055094</td>\n",
              "      <td>-0.066777</td>\n",
              "      <td>-0.512310</td>\n",
              "      <td>-0.34011</td>\n",
              "      <td>-0.389681</td>\n",
              "      <td>-0.529642</td>\n",
              "      <td>-0.463337</td>\n",
              "      <td>...</td>\n",
              "      <td>0.536571</td>\n",
              "      <td>0.0</td>\n",
              "      <td>0.0</td>\n",
              "      <td>0.0</td>\n",
              "      <td>0.0</td>\n",
              "      <td>-1.261746</td>\n",
              "      <td>-0.323858</td>\n",
              "      <td>-1.281175</td>\n",
              "      <td>-1.014558</td>\n",
              "      <td>2</td>\n",
              "    </tr>\n",
              "    <tr>\n",
              "      <th>266</th>\n",
              "      <td>-0.538252</td>\n",
              "      <td>2.106390</td>\n",
              "      <td>1.786382</td>\n",
              "      <td>1.566167</td>\n",
              "      <td>0.460387</td>\n",
              "      <td>2.415578</td>\n",
              "      <td>-0.34011</td>\n",
              "      <td>4.216316</td>\n",
              "      <td>3.285417</td>\n",
              "      <td>2.569592</td>\n",
              "      <td>...</td>\n",
              "      <td>0.536571</td>\n",
              "      <td>0.0</td>\n",
              "      <td>0.0</td>\n",
              "      <td>0.0</td>\n",
              "      <td>0.0</td>\n",
              "      <td>0.850771</td>\n",
              "      <td>-0.323858</td>\n",
              "      <td>0.784592</td>\n",
              "      <td>0.989731</td>\n",
              "      <td>6</td>\n",
              "    </tr>\n",
              "  </tbody>\n",
              "</table>\n",
              "<p>5 rows × 77 columns</p>\n",
              "</div>"
            ],
            "text/plain": [
              "     Protocol  Total Fwd Packet  Total Bwd packets  \\\n",
              "23  -0.538252          0.348746           1.390101   \n",
              "40  -0.538252          0.559123           1.347446   \n",
              "70  -0.538252          3.887289           3.021320   \n",
              "151 -0.538252         -0.076333          -0.085633   \n",
              "266 -0.538252          2.106390           1.786382   \n",
              "\n",
              "     Total Length of Fwd Packet  Total Length of Bwd Packet  \\\n",
              "23                    -0.012513                    1.894551   \n",
              "40                     0.040394                    1.582890   \n",
              "70                     3.317215                    0.655163   \n",
              "151                   -0.055094                   -0.066777   \n",
              "266                    1.566167                    0.460387   \n",
              "\n",
              "     Fwd Packet Length Max  Fwd Packet Length Min  Fwd Packet Length Mean  \\\n",
              "23                1.667111               -0.34011                0.230870   \n",
              "40                2.498054               -0.34011                0.541941   \n",
              "70                2.415578               -0.34011                4.887389   \n",
              "151              -0.512310               -0.34011               -0.389681   \n",
              "266               2.415578               -0.34011                4.216316   \n",
              "\n",
              "     Fwd Packet Length Std  Bwd Packet Length Max  ...  Fwd Seg Size Min  \\\n",
              "23                0.966091               2.486498  ...          0.536571   \n",
              "40                1.441745               2.486498  ...          0.536571   \n",
              "70                2.987417               2.569592  ...          0.536571   \n",
              "151              -0.529642              -0.463337  ...          0.536571   \n",
              "266               3.285417               2.569592  ...          0.536571   \n",
              "\n",
              "     Active Mean  Active Std  Active Max  Active Min  Idle Mean  Idle Std  \\\n",
              "23           0.0         0.0         0.0         0.0   0.850792 -0.323858   \n",
              "40           0.0         0.0         0.0         0.0   0.822694 -0.323858   \n",
              "70           0.0         0.0         0.0         0.0   0.850774 -0.323858   \n",
              "151          0.0         0.0         0.0         0.0  -1.261746 -0.323858   \n",
              "266          0.0         0.0         0.0         0.0   0.850771 -0.323858   \n",
              "\n",
              "     Idle Max  Idle Min  Level2  \n",
              "23   0.784613  0.989751       1  \n",
              "40   0.757137  0.963093       8  \n",
              "70   0.784595  0.989734       6  \n",
              "151 -1.281175 -1.014558       2  \n",
              "266  0.784592  0.989731       6  \n",
              "\n",
              "[5 rows x 77 columns]"
            ]
          },
          "execution_count": 279,
          "metadata": {},
          "output_type": "execute_result"
        }
      ],
      "source": [
        "#Dropping non-tor values for Critic training\n",
        "cdf = pd.DataFrame(X_train_c)\n",
        "cdf.columns = X.columns\n",
        "cdf['Level2'] = Y_train_c.tolist()\n",
        "cdf = cdf[(cdf.Level2 != 0)]\n",
        "cdf.head()"
      ]
    },
    {
      "cell_type": "code",
      "execution_count": 280,
      "id": "12907660",
      "metadata": {},
      "outputs": [
        {
          "data": {
            "text/html": [
              "<div>\n",
              "<style scoped>\n",
              "    .dataframe tbody tr th:only-of-type {\n",
              "        vertical-align: middle;\n",
              "    }\n",
              "\n",
              "    .dataframe tbody tr th {\n",
              "        vertical-align: top;\n",
              "    }\n",
              "\n",
              "    .dataframe thead th {\n",
              "        text-align: right;\n",
              "    }\n",
              "</style>\n",
              "<table border=\"1\" class=\"dataframe\">\n",
              "  <thead>\n",
              "    <tr style=\"text-align: right;\">\n",
              "      <th></th>\n",
              "      <th>Protocol</th>\n",
              "      <th>Total Fwd Packet</th>\n",
              "      <th>Total Bwd packets</th>\n",
              "      <th>Total Length of Fwd Packet</th>\n",
              "      <th>Total Length of Bwd Packet</th>\n",
              "      <th>Fwd Packet Length Max</th>\n",
              "      <th>Fwd Packet Length Min</th>\n",
              "      <th>Fwd Packet Length Mean</th>\n",
              "      <th>Fwd Packet Length Std</th>\n",
              "      <th>Bwd Packet Length Max</th>\n",
              "      <th>...</th>\n",
              "      <th>Fwd Seg Size Min</th>\n",
              "      <th>Active Mean</th>\n",
              "      <th>Active Std</th>\n",
              "      <th>Active Max</th>\n",
              "      <th>Active Min</th>\n",
              "      <th>Idle Mean</th>\n",
              "      <th>Idle Std</th>\n",
              "      <th>Idle Max</th>\n",
              "      <th>Idle Min</th>\n",
              "      <th>Level2</th>\n",
              "    </tr>\n",
              "  </thead>\n",
              "  <tbody>\n",
              "    <tr>\n",
              "      <th>57</th>\n",
              "      <td>-0.538252</td>\n",
              "      <td>-0.038476</td>\n",
              "      <td>-0.034034</td>\n",
              "      <td>-0.043659</td>\n",
              "      <td>-0.043953</td>\n",
              "      <td>2.498054</td>\n",
              "      <td>-0.34011</td>\n",
              "      <td>1.458310</td>\n",
              "      <td>1.882196</td>\n",
              "      <td>2.486498</td>\n",
              "      <td>...</td>\n",
              "      <td>0.536571</td>\n",
              "      <td>0.0</td>\n",
              "      <td>0.0</td>\n",
              "      <td>0.0</td>\n",
              "      <td>0.0</td>\n",
              "      <td>0.822696</td>\n",
              "      <td>-0.323858</td>\n",
              "      <td>0.757139</td>\n",
              "      <td>0.963095</td>\n",
              "      <td>8</td>\n",
              "    </tr>\n",
              "    <tr>\n",
              "      <th>63</th>\n",
              "      <td>-1.839147</td>\n",
              "      <td>-0.075793</td>\n",
              "      <td>-0.086321</td>\n",
              "      <td>-0.055094</td>\n",
              "      <td>-0.066777</td>\n",
              "      <td>-0.512310</td>\n",
              "      <td>-0.34011</td>\n",
              "      <td>-0.389681</td>\n",
              "      <td>-0.529642</td>\n",
              "      <td>-0.463337</td>\n",
              "      <td>...</td>\n",
              "      <td>-3.398594</td>\n",
              "      <td>0.0</td>\n",
              "      <td>0.0</td>\n",
              "      <td>0.0</td>\n",
              "      <td>0.0</td>\n",
              "      <td>-1.261746</td>\n",
              "      <td>-0.323858</td>\n",
              "      <td>-1.281175</td>\n",
              "      <td>-1.014558</td>\n",
              "      <td>3</td>\n",
              "    </tr>\n",
              "    <tr>\n",
              "      <th>72</th>\n",
              "      <td>-0.538252</td>\n",
              "      <td>0.242747</td>\n",
              "      <td>0.574836</td>\n",
              "      <td>0.001795</td>\n",
              "      <td>0.711927</td>\n",
              "      <td>2.498054</td>\n",
              "      <td>-0.34011</td>\n",
              "      <td>0.714792</td>\n",
              "      <td>2.054119</td>\n",
              "      <td>2.486498</td>\n",
              "      <td>...</td>\n",
              "      <td>0.536571</td>\n",
              "      <td>0.0</td>\n",
              "      <td>0.0</td>\n",
              "      <td>0.0</td>\n",
              "      <td>0.0</td>\n",
              "      <td>0.850894</td>\n",
              "      <td>-0.323858</td>\n",
              "      <td>0.784712</td>\n",
              "      <td>0.989848</td>\n",
              "      <td>2</td>\n",
              "    </tr>\n",
              "    <tr>\n",
              "      <th>183</th>\n",
              "      <td>-0.538252</td>\n",
              "      <td>14.842009</td>\n",
              "      <td>6.556889</td>\n",
              "      <td>14.317899</td>\n",
              "      <td>1.262722</td>\n",
              "      <td>2.415578</td>\n",
              "      <td>-0.34011</td>\n",
              "      <td>5.588964</td>\n",
              "      <td>2.371768</td>\n",
              "      <td>2.569592</td>\n",
              "      <td>...</td>\n",
              "      <td>0.536571</td>\n",
              "      <td>0.0</td>\n",
              "      <td>0.0</td>\n",
              "      <td>0.0</td>\n",
              "      <td>0.0</td>\n",
              "      <td>0.850683</td>\n",
              "      <td>-0.323858</td>\n",
              "      <td>0.784507</td>\n",
              "      <td>0.989648</td>\n",
              "      <td>6</td>\n",
              "    </tr>\n",
              "    <tr>\n",
              "      <th>185</th>\n",
              "      <td>-0.538252</td>\n",
              "      <td>1.333027</td>\n",
              "      <td>2.237014</td>\n",
              "      <td>0.454516</td>\n",
              "      <td>0.570586</td>\n",
              "      <td>2.498054</td>\n",
              "      <td>-0.34011</td>\n",
              "      <td>1.852311</td>\n",
              "      <td>0.880948</td>\n",
              "      <td>2.486498</td>\n",
              "      <td>...</td>\n",
              "      <td>0.536571</td>\n",
              "      <td>0.0</td>\n",
              "      <td>0.0</td>\n",
              "      <td>0.0</td>\n",
              "      <td>0.0</td>\n",
              "      <td>0.824210</td>\n",
              "      <td>-0.323858</td>\n",
              "      <td>0.758619</td>\n",
              "      <td>0.964531</td>\n",
              "      <td>7</td>\n",
              "    </tr>\n",
              "  </tbody>\n",
              "</table>\n",
              "<p>5 rows × 77 columns</p>\n",
              "</div>"
            ],
            "text/plain": [
              "     Protocol  Total Fwd Packet  Total Bwd packets  \\\n",
              "57  -0.538252         -0.038476          -0.034034   \n",
              "63  -1.839147         -0.075793          -0.086321   \n",
              "72  -0.538252          0.242747           0.574836   \n",
              "183 -0.538252         14.842009           6.556889   \n",
              "185 -0.538252          1.333027           2.237014   \n",
              "\n",
              "     Total Length of Fwd Packet  Total Length of Bwd Packet  \\\n",
              "57                    -0.043659                   -0.043953   \n",
              "63                    -0.055094                   -0.066777   \n",
              "72                     0.001795                    0.711927   \n",
              "183                   14.317899                    1.262722   \n",
              "185                    0.454516                    0.570586   \n",
              "\n",
              "     Fwd Packet Length Max  Fwd Packet Length Min  Fwd Packet Length Mean  \\\n",
              "57                2.498054               -0.34011                1.458310   \n",
              "63               -0.512310               -0.34011               -0.389681   \n",
              "72                2.498054               -0.34011                0.714792   \n",
              "183               2.415578               -0.34011                5.588964   \n",
              "185               2.498054               -0.34011                1.852311   \n",
              "\n",
              "     Fwd Packet Length Std  Bwd Packet Length Max  ...  Fwd Seg Size Min  \\\n",
              "57                1.882196               2.486498  ...          0.536571   \n",
              "63               -0.529642              -0.463337  ...         -3.398594   \n",
              "72                2.054119               2.486498  ...          0.536571   \n",
              "183               2.371768               2.569592  ...          0.536571   \n",
              "185               0.880948               2.486498  ...          0.536571   \n",
              "\n",
              "     Active Mean  Active Std  Active Max  Active Min  Idle Mean  Idle Std  \\\n",
              "57           0.0         0.0         0.0         0.0   0.822696 -0.323858   \n",
              "63           0.0         0.0         0.0         0.0  -1.261746 -0.323858   \n",
              "72           0.0         0.0         0.0         0.0   0.850894 -0.323858   \n",
              "183          0.0         0.0         0.0         0.0   0.850683 -0.323858   \n",
              "185          0.0         0.0         0.0         0.0   0.824210 -0.323858   \n",
              "\n",
              "     Idle Max  Idle Min  Level2  \n",
              "57   0.757139  0.963095       8  \n",
              "63  -1.281175 -1.014558       3  \n",
              "72   0.784712  0.989848       2  \n",
              "183  0.784507  0.989648       6  \n",
              "185  0.758619  0.964531       7  \n",
              "\n",
              "[5 rows x 77 columns]"
            ]
          },
          "execution_count": 280,
          "metadata": {},
          "output_type": "execute_result"
        }
      ],
      "source": [
        "#Preparing test set for critic\n",
        "ctest = pd.DataFrame(X_test_c)\n",
        "ctest.columns = X.columns\n",
        "ctest['Level2'] = Y_test_c.tolist()\n",
        "ctest = ctest[(ctest.Level2 != 0)]\n",
        "ctest.head()"
      ]
    },
    {
      "cell_type": "code",
      "execution_count": 281,
      "id": "06cb49a0",
      "metadata": {},
      "outputs": [],
      "source": [
        "#separating X and y for critic fitting\n",
        "Y_train_c = cdf['Level2']\n",
        "Y_test_c = ctest['Level2']\n",
        "X_train_c = cdf.drop(['Level2'], axis=1)\n",
        "X_test_c = ctest.drop(['Level2'], axis=1)\n",
        "Y_train_c = Y_train_c.to_numpy()\n",
        "Y_test_c = Y_test_c.to_numpy()\n",
        "X_train_c = X_train_c.to_numpy()\n",
        "X_test_c = X_test_c.to_numpy()"
      ]
    },
    {
      "cell_type": "code",
      "execution_count": 282,
      "id": "6fdbfc24",
      "metadata": {},
      "outputs": [],
      "source": [
        "sampless = {1: 110, 2: 129, 6:108, 7:146}\n",
        "samples = [1, 2, 6, 7]\n",
        "undersample = CondensedNearestNeighbour(sampling_strategy = samples, random_state = 42, n_jobs=-1, n_neighbors=3)\n",
        "#undersample = RandomUnderSampler(sampling_strategy = sampless, random_state = 42)\n",
        "#X_train, Y_train_2 = undersample.fit_resample(X_train, Y_train_2)"
      ]
    },
    {
      "cell_type": "code",
      "execution_count": 283,
      "id": "42adbd68",
      "metadata": {},
      "outputs": [
        {
          "data": {
            "text/plain": [
              "(array([1, 2, 3, 4, 5, 6, 7, 8], dtype=int64),\n",
              " array([146, 171,  42,   8,  70, 143, 194, 131], dtype=int64))"
            ]
          },
          "execution_count": 283,
          "metadata": {},
          "output_type": "execute_result"
        }
      ],
      "source": [
        "np.unique(Y_train_c, return_counts=True)"
      ]
    },
    {
      "cell_type": "code",
      "execution_count": 284,
      "id": "001ce13a",
      "metadata": {},
      "outputs": [],
      "source": [
        "#Oversampling for Critic\n",
        "#1: 146, 2: 171,  , 6: 143, 7: 194, 8: 131\n",
        "sampless = {3: 42,   4: 8,  5: 70}\n",
        "oversample = SMOTE(sampling_strategy = sampless, random_state = 42)\n",
        "X_train_c, Y_train_c = oversample.fit_resample(X_train_c, Y_train_c)"
      ]
    },
    {
      "cell_type": "code",
      "execution_count": 285,
      "id": "cd417ad3",
      "metadata": {},
      "outputs": [
        {
          "data": {
            "text/plain": [
              "True"
            ]
          },
          "execution_count": 285,
          "metadata": {},
          "output_type": "execute_result"
        }
      ],
      "source": [
        "#Creating a target Y for binary after undersampling\n",
        "\n",
        "Y_train_l1 = Y_train_2.copy()\n",
        "Y_train_l1[Y_train_l1>1] = 1\n",
        "Y_train_l.equals(Y_train_l1)\n",
        "(Y_train_l == Y_train_l1).all()"
      ]
    },
    {
      "cell_type": "code",
      "execution_count": 286,
      "id": "8680e3ab",
      "metadata": {},
      "outputs": [],
      "source": [
        "#Using only the first classification for the gridsearch\n",
        "#Y_train_l = Y_train['Level1']\n",
        "#Y_test_l = Y_test['Level1']"
      ]
    },
    {
      "cell_type": "code",
      "execution_count": 287,
      "id": "d5e28ff5",
      "metadata": {},
      "outputs": [],
      "source": [
        "#importing libraries for models\n",
        "from sklearn.model_selection import GridSearchCV, RandomizedSearchCV\n",
        "from sklearn.pipeline import Pipeline\n",
        "from sklearn.ensemble import RandomForestClassifier\n",
        "from sklearn.ensemble import ExtraTreesClassifier, GradientBoostingClassifier, BaggingClassifier, AdaBoostClassifier\n",
        "from sklearn.tree import DecisionTreeClassifier\n",
        "from sklearn.svm import SVC\n",
        "import xgboost as xgb\n",
        "from imblearn.pipeline import Pipeline as impip\n",
        "from sklearn.decomposition import PCA\n",
        "from sklearn.model_selection import StratifiedKFold\n",
        "\n",
        "\n",
        "#Creating classifiers to be passed to the pipeline\n",
        "clf1 = RandomForestClassifier(random_state=42, criterion = 'entropy')\n",
        "clf2 = ExtraTreesClassifier(random_state=42, criterion = 'entropy')\n",
        "clf3 = DecisionTreeClassifier(random_state=42, criterion = 'entropy')\n",
        "clf4 = GradientBoostingClassifier(random_state=42)\n",
        "clf5 = AdaBoostClassifier(random_state=42)\n",
        "clf6 = BaggingClassifier(random_state=42)\n",
        "clf7 = SVC(random_state=42)\n",
        "\n",
        "#Initializing parameter dictionary for models\n",
        "\n",
        "param1 = {}\n",
        "param1['classifier__n_estimators'] = [10, 50, 100]\n",
        "param1['classifier__max_depth'] = [5, 10, 20]\n",
        "param1['classifier__min_samples_split'] = [2,5,10]\n",
        "param1['classifier'] = [clf1]\n",
        "\n",
        "param2 = {}\n",
        "param2['classifier__n_estimators'] = [10, 50, 100]\n",
        "param2['classifier__max_depth'] = [5, 10, 20]\n",
        "param2['classifier__min_samples_split'] = [2,5,10]\n",
        "param2['classifier'] = [clf2]\n",
        "\n",
        "param3 = {}\n",
        "param3['classifier__max_depth'] = [5, 10, 20]\n",
        "param3['classifier__min_samples_split'] = [2,5,10]\n",
        "param3['classifier'] = [clf3]\n",
        "\n",
        "param4 = {}\n",
        "param4['classifier__n_estimators'] = [10, 50, 100]\n",
        "param4['classifier__learning_rate'] = [0.01, 0.05, 0.1]\n",
        "param4['classifier__max_depth'] = [5, 10, 20]\n",
        "param4['classifier__min_samples_split'] = [2,5,10]\n",
        "param4['classifier'] = [clf4]\n",
        "\n",
        "param5 = {}\n",
        "param5['classifier__n_estimators'] = [10, 50, 100]\n",
        "param5['classifier__learning_rate'] = [0.01, 0.05, 0.1]\n",
        "param5['classifier'] = [clf5]\n",
        "\n",
        "param6 = {}\n",
        "param6['classifier__n_estimators'] = [10, 50, 100]\n",
        "param6['classifier__max_samples'] = [0.05, 0.1, 0.2, 0.5]\n",
        "param6['classifier'] = [clf6]\n",
        "\n",
        "param7 = {}\n",
        "param7['classifier__C'] = [0.01, 0.1, 1, 5]\n",
        "param7['classifier__kernel'] = ['linear', 'rbf', 'sigmoid']\n",
        "param7['classifier'] = [clf7]\n",
        "\n",
        "params = [param1, param2, param3, param4, param5, param6, param7]"
      ]
    },
    {
      "cell_type": "code",
      "execution_count": 288,
      "id": "2a16c182",
      "metadata": {},
      "outputs": [],
      "source": [
        "from sklearn.metrics import accuracy_score, f1_score, classification_report,confusion_matrix"
      ]
    },
    {
      "cell_type": "code",
      "execution_count": 289,
      "id": "3d783dd8",
      "metadata": {},
      "outputs": [],
      "source": [
        "#Creating random_state=ne for the models\n",
        "# pipeline = impip([('scaler', StandardScaler()),('classifier', clf1),])\n",
        "\n",
        "# #implementing randomized search because gridsearch takes forever\n",
        "# rs = GridSearchCV(pipeline, params, cv=StratifiedKFold(n_splits=3, shuffle=True, random_state=42), n_jobs=-1, scoring='f1', error_score='raise').fit(X_train, Y_train_l)\n",
        "# rs.best_params_"
      ]
    },
    {
      "cell_type": "code",
      "execution_count": 290,
      "id": "28ed44ac",
      "metadata": {},
      "outputs": [
        {
          "data": {
            "text/plain": [
              "\"\\n#GridSearch for Second Classifier\\nxgbmodel = xgb.XGBClassifier()\\nparams = {'n_estimators': [10, 50, 100], 'max_depth': [5, 10, 20], 'min_samples_split': [2, 5, 10]}\\nrs = GridSearchCV(xgbmodel, params, cv=StratifiedKFold(n_splits=3, shuffle=True, random_state=42), n_jobs=-1, scoring='roc_auc_ovr', error_score='raise').fit(X_train, Y_train_2)\\nrs.best_params_\\n\""
            ]
          },
          "execution_count": 290,
          "metadata": {},
          "output_type": "execute_result"
        }
      ],
      "source": [
        "'''\n",
        "#GridSearch for Second Classifier\n",
        "xgbmodel = xgb.XGBClassifier()\n",
        "params = {'n_estimators': [10, 50, 100], 'max_depth': [5, 10, 20], 'min_samples_split': [2, 5, 10]}\n",
        "rs = GridSearchCV(xgbmodel, params, cv=StratifiedKFold(n_splits=3, shuffle=True, random_state=42), n_jobs=-1, scoring='roc_auc_ovr', error_score='raise').fit(X_train, Y_train_2)\n",
        "rs.best_params_\n",
        "'''"
      ]
    },
    {
      "cell_type": "code",
      "execution_count": 291,
      "id": "f4028657",
      "metadata": {},
      "outputs": [
        {
          "name": "stdout",
          "output_type": "stream",
          "text": [
            "F1 score [0.99993876 0.99589322]\n",
            "              precision    recall  f1-score   support\n",
            "\n",
            "           0     0.9999    0.9999    0.9999     32659\n",
            "           1     0.9959    0.9959    0.9959       487\n",
            "\n",
            "    accuracy                         0.9999     33146\n",
            "   macro avg     0.9979    0.9979    0.9979     33146\n",
            "weighted avg     0.9999    0.9999    0.9999     33146\n",
            "\n",
            "Confusion Matrix \n",
            "[[32657     2]\n",
            " [    2   485]]\n"
          ]
        }
      ],
      "source": [
        "# Decision tree worked best\n",
        "ranForModel = DecisionTreeClassifier(max_depth=10, min_samples_split=2, random_state=42, criterion = \"entropy\")\n",
        "ranForModel.fit(X_train, Y_train_l)\n",
        "prediction_1 = ranForModel.predict(X_test)\n",
        "Accuracy = accuracy_score(Y_test_l, prediction_1)\n",
        "print(\"F1 score\",f1_score(Y_test['Level1'], prediction_1, average=None))\n",
        "print(classification_report(Y_test['Level1'], prediction_1, target_names=['0','1'], digits=4))\n",
        "print('Confusion Matrix \\n' + str(confusion_matrix(Y_test['Level1'], prediction_1)))"
      ]
    },
    {
      "cell_type": "markdown",
      "id": "65a3f4eb",
      "metadata": {},
      "source": [
        "## Layer 2"
      ]
    },
    {
      "cell_type": "code",
      "execution_count": 292,
      "id": "f5e85bf9",
      "metadata": {},
      "outputs": [
        {
          "data": {
            "text/html": [
              "<style>#sk-container-id-13 {color: black;background-color: white;}#sk-container-id-13 pre{padding: 0;}#sk-container-id-13 div.sk-toggleable {background-color: white;}#sk-container-id-13 label.sk-toggleable__label {cursor: pointer;display: block;width: 100%;margin-bottom: 0;padding: 0.3em;box-sizing: border-box;text-align: center;}#sk-container-id-13 label.sk-toggleable__label-arrow:before {content: \"▸\";float: left;margin-right: 0.25em;color: #696969;}#sk-container-id-13 label.sk-toggleable__label-arrow:hover:before {color: black;}#sk-container-id-13 div.sk-estimator:hover label.sk-toggleable__label-arrow:before {color: black;}#sk-container-id-13 div.sk-toggleable__content {max-height: 0;max-width: 0;overflow: hidden;text-align: left;background-color: #f0f8ff;}#sk-container-id-13 div.sk-toggleable__content pre {margin: 0.2em;color: black;border-radius: 0.25em;background-color: #f0f8ff;}#sk-container-id-13 input.sk-toggleable__control:checked~div.sk-toggleable__content {max-height: 200px;max-width: 100%;overflow: auto;}#sk-container-id-13 input.sk-toggleable__control:checked~label.sk-toggleable__label-arrow:before {content: \"▾\";}#sk-container-id-13 div.sk-estimator input.sk-toggleable__control:checked~label.sk-toggleable__label {background-color: #d4ebff;}#sk-container-id-13 div.sk-label input.sk-toggleable__control:checked~label.sk-toggleable__label {background-color: #d4ebff;}#sk-container-id-13 input.sk-hidden--visually {border: 0;clip: rect(1px 1px 1px 1px);clip: rect(1px, 1px, 1px, 1px);height: 1px;margin: -1px;overflow: hidden;padding: 0;position: absolute;width: 1px;}#sk-container-id-13 div.sk-estimator {font-family: monospace;background-color: #f0f8ff;border: 1px dotted black;border-radius: 0.25em;box-sizing: border-box;margin-bottom: 0.5em;}#sk-container-id-13 div.sk-estimator:hover {background-color: #d4ebff;}#sk-container-id-13 div.sk-parallel-item::after {content: \"\";width: 100%;border-bottom: 1px solid gray;flex-grow: 1;}#sk-container-id-13 div.sk-label:hover label.sk-toggleable__label {background-color: #d4ebff;}#sk-container-id-13 div.sk-serial::before {content: \"\";position: absolute;border-left: 1px solid gray;box-sizing: border-box;top: 0;bottom: 0;left: 50%;z-index: 0;}#sk-container-id-13 div.sk-serial {display: flex;flex-direction: column;align-items: center;background-color: white;padding-right: 0.2em;padding-left: 0.2em;position: relative;}#sk-container-id-13 div.sk-item {position: relative;z-index: 1;}#sk-container-id-13 div.sk-parallel {display: flex;align-items: stretch;justify-content: center;background-color: white;position: relative;}#sk-container-id-13 div.sk-item::before, #sk-container-id-13 div.sk-parallel-item::before {content: \"\";position: absolute;border-left: 1px solid gray;box-sizing: border-box;top: 0;bottom: 0;left: 50%;z-index: -1;}#sk-container-id-13 div.sk-parallel-item {display: flex;flex-direction: column;z-index: 1;position: relative;background-color: white;}#sk-container-id-13 div.sk-parallel-item:first-child::after {align-self: flex-end;width: 50%;}#sk-container-id-13 div.sk-parallel-item:last-child::after {align-self: flex-start;width: 50%;}#sk-container-id-13 div.sk-parallel-item:only-child::after {width: 0;}#sk-container-id-13 div.sk-dashed-wrapped {border: 1px dashed gray;margin: 0 0.4em 0.5em 0.4em;box-sizing: border-box;padding-bottom: 0.4em;background-color: white;}#sk-container-id-13 div.sk-label label {font-family: monospace;font-weight: bold;display: inline-block;line-height: 1.2em;}#sk-container-id-13 div.sk-label-container {text-align: center;}#sk-container-id-13 div.sk-container {/* jupyter's `normalize.less` sets `[hidden] { display: none; }` but bootstrap.min.css set `[hidden] { display: none !important; }` so we also need the `!important` here to be able to override the default hidden behavior on the sphinx rendered scikit-learn.org. See: https://github.com/scikit-learn/scikit-learn/issues/21755 */display: inline-block !important;position: relative;}#sk-container-id-13 div.sk-text-repr-fallback {display: none;}</style><div id=\"sk-container-id-13\" class=\"sk-top-container\"><div class=\"sk-text-repr-fallback\"><pre>XGBClassifier(base_score=0.5, booster=&#x27;gbtree&#x27;, callbacks=None,\n",
              "              colsample_bylevel=1, colsample_bynode=1, colsample_bytree=1,\n",
              "              early_stopping_rounds=None, enable_categorical=False,\n",
              "              eval_metric=None, gamma=0, gpu_id=-1, grow_policy=&#x27;depthwise&#x27;,\n",
              "              importance_type=None, interaction_constraints=&#x27;&#x27;,\n",
              "              learning_rate=0.300000012, max_bin=256, max_cat_to_onehot=4,\n",
              "              max_delta_step=0, max_depth=10, max_leaves=0, min_child_weight=1,\n",
              "              missing=nan, monotone_constraints=&#x27;()&#x27;, n_estimators=50,\n",
              "              n_jobs=-1, num_parallel_tree=1, objective=&#x27;multi:softprob&#x27;,\n",
              "              predictor=&#x27;auto&#x27;, random_state=42, reg_alpha=0, ...)</pre><b>In a Jupyter environment, please rerun this cell to show the HTML representation or trust the notebook. <br />On GitHub, the HTML representation is unable to render, please try loading this page with nbviewer.org.</b></div><div class=\"sk-container\" hidden><div class=\"sk-item\"><div class=\"sk-estimator sk-toggleable\"><input class=\"sk-toggleable__control sk-hidden--visually\" id=\"sk-estimator-id-47\" type=\"checkbox\" checked><label for=\"sk-estimator-id-47\" class=\"sk-toggleable__label sk-toggleable__label-arrow\">XGBClassifier</label><div class=\"sk-toggleable__content\"><pre>XGBClassifier(base_score=0.5, booster=&#x27;gbtree&#x27;, callbacks=None,\n",
              "              colsample_bylevel=1, colsample_bynode=1, colsample_bytree=1,\n",
              "              early_stopping_rounds=None, enable_categorical=False,\n",
              "              eval_metric=None, gamma=0, gpu_id=-1, grow_policy=&#x27;depthwise&#x27;,\n",
              "              importance_type=None, interaction_constraints=&#x27;&#x27;,\n",
              "              learning_rate=0.300000012, max_bin=256, max_cat_to_onehot=4,\n",
              "              max_delta_step=0, max_depth=10, max_leaves=0, min_child_weight=1,\n",
              "              missing=nan, monotone_constraints=&#x27;()&#x27;, n_estimators=50,\n",
              "              n_jobs=-1, num_parallel_tree=1, objective=&#x27;multi:softprob&#x27;,\n",
              "              predictor=&#x27;auto&#x27;, random_state=42, reg_alpha=0, ...)</pre></div></div></div></div></div>"
            ],
            "text/plain": [
              "XGBClassifier(base_score=0.5, booster='gbtree', callbacks=None,\n",
              "              colsample_bylevel=1, colsample_bynode=1, colsample_bytree=1,\n",
              "              early_stopping_rounds=None, enable_categorical=False,\n",
              "              eval_metric=None, gamma=0, gpu_id=-1, grow_policy='depthwise',\n",
              "              importance_type=None, interaction_constraints='',\n",
              "              learning_rate=0.300000012, max_bin=256, max_cat_to_onehot=4,\n",
              "              max_delta_step=0, max_depth=10, max_leaves=0, min_child_weight=1,\n",
              "              missing=nan, monotone_constraints='()', n_estimators=50,\n",
              "              n_jobs=-1, num_parallel_tree=1, objective='multi:softprob',\n",
              "              predictor='auto', random_state=42, reg_alpha=0, ...)"
            ]
          },
          "execution_count": 292,
          "metadata": {},
          "output_type": "execute_result"
        }
      ],
      "source": [
        "\n",
        "#decTree = DecisionTreeClassifier(criterion = \"entropy\", max_depth=10, min_samples_split=2)\n",
        "#decTree.fit(X_train, Y_train_l)\n",
        "xgbmodel = xgb.XGBClassifier(n_estimators=50, n_jobs=-1, random_state=42, max_depth=10)\n",
        "xgbmodel.fit(X_train, Y_train_2)"
      ]
    },
    {
      "cell_type": "code",
      "execution_count": 293,
      "id": "0bd5a87e",
      "metadata": {},
      "outputs": [
        {
          "name": "stdout",
          "output_type": "stream",
          "text": [
            "F1 score [0.99992346 0.92405063 0.88268156 0.86956522 0.28571429 0.8974359\n",
            " 0.96153846 0.90640394 0.87323944]\n",
            "              precision    recall  f1-score   support\n",
            "\n",
            "           0     0.9998    1.0000    0.9999     32659\n",
            "           1     0.9125    0.9359    0.9241        78\n",
            "           2     0.9080    0.8587    0.8827        92\n",
            "           3     0.8696    0.8696    0.8696        23\n",
            "           4     0.5000    0.2000    0.2857         5\n",
            "           5     0.8537    0.9459    0.8974        37\n",
            "           6     0.9494    0.9740    0.9615        77\n",
            "           7     0.9293    0.8846    0.9064       104\n",
            "           8     0.8732    0.8732    0.8732        71\n",
            "\n",
            "    accuracy                         0.9985     33146\n",
            "   macro avg     0.8662    0.8380    0.8445     33146\n",
            "weighted avg     0.9984    0.9985    0.9985     33146\n",
            "\n",
            "Confusion Matrix \n",
            "[[32659     0     0     0     0     0     0     0     0]\n",
            " [    0    73     3     0     0     0     2     0     0]\n",
            " [    3     5    79     2     0     1     0     0     2]\n",
            " [    0     0     2    20     0     1     0     0     0]\n",
            " [    0     0     0     0     1     4     0     0     0]\n",
            " [    0     1     0     0     1    35     0     0     0]\n",
            " [    0     0     2     0     0     0    75     0     0]\n",
            " [    2     1     0     0     0     0     2    92     7]\n",
            " [    0     0     1     1     0     0     0     7    62]]\n"
          ]
        }
      ],
      "source": [
        "prediction_2 = xgbmodel.predict(X_test)\n",
        "print(\"F1 score\",f1_score(Y_test['Level2'], prediction_2, average=None))\n",
        "print(classification_report(Y_test['Level2'], prediction_2, target_names=['0','1','2','3','4','5','6','7','8'], digits=4))\n",
        "print('Confusion Matrix \\n' + str(confusion_matrix(Y_test['Level2'], prediction_2)))"
      ]
    },
    {
      "cell_type": "markdown",
      "id": "421e4544",
      "metadata": {},
      "source": [
        "## Critique Model"
      ]
    },
    {
      "cell_type": "code",
      "execution_count": 294,
      "id": "28694f5c",
      "metadata": {},
      "outputs": [],
      "source": [
        "from sklearn.ensemble import VotingClassifier\n",
        "\n",
        "#Creating classifiers to be passed to the pipeline\n",
        "models = list()\n",
        "models.append(('rfc', RandomForestClassifier(random_state=42, criterion = 'entropy')))\n",
        "models.append(('etc', ExtraTreesClassifier(random_state=42, criterion = 'entropy')))\n",
        "models.append(('dtc', DecisionTreeClassifier(random_state=42, criterion = 'entropy')))\n",
        "models.append(('gbc', GradientBoostingClassifier(random_state=42)))\n",
        "#models.append(('abc', AdaBoostClassifier(random_state=42)))\n",
        "models.append(('bc', BaggingClassifier(random_state=42)))\n",
        "#models.append(('svm', SVC(random_state=42, probability=True)))\n",
        "\n",
        "ensemble = VotingClassifier(estimators=models, voting='soft')"
      ]
    },
    {
      "cell_type": "code",
      "execution_count": 295,
      "id": "ed19208f",
      "metadata": {},
      "outputs": [
        {
          "data": {
            "text/html": [
              "<style>#sk-container-id-14 {color: black;background-color: white;}#sk-container-id-14 pre{padding: 0;}#sk-container-id-14 div.sk-toggleable {background-color: white;}#sk-container-id-14 label.sk-toggleable__label {cursor: pointer;display: block;width: 100%;margin-bottom: 0;padding: 0.3em;box-sizing: border-box;text-align: center;}#sk-container-id-14 label.sk-toggleable__label-arrow:before {content: \"▸\";float: left;margin-right: 0.25em;color: #696969;}#sk-container-id-14 label.sk-toggleable__label-arrow:hover:before {color: black;}#sk-container-id-14 div.sk-estimator:hover label.sk-toggleable__label-arrow:before {color: black;}#sk-container-id-14 div.sk-toggleable__content {max-height: 0;max-width: 0;overflow: hidden;text-align: left;background-color: #f0f8ff;}#sk-container-id-14 div.sk-toggleable__content pre {margin: 0.2em;color: black;border-radius: 0.25em;background-color: #f0f8ff;}#sk-container-id-14 input.sk-toggleable__control:checked~div.sk-toggleable__content {max-height: 200px;max-width: 100%;overflow: auto;}#sk-container-id-14 input.sk-toggleable__control:checked~label.sk-toggleable__label-arrow:before {content: \"▾\";}#sk-container-id-14 div.sk-estimator input.sk-toggleable__control:checked~label.sk-toggleable__label {background-color: #d4ebff;}#sk-container-id-14 div.sk-label input.sk-toggleable__control:checked~label.sk-toggleable__label {background-color: #d4ebff;}#sk-container-id-14 input.sk-hidden--visually {border: 0;clip: rect(1px 1px 1px 1px);clip: rect(1px, 1px, 1px, 1px);height: 1px;margin: -1px;overflow: hidden;padding: 0;position: absolute;width: 1px;}#sk-container-id-14 div.sk-estimator {font-family: monospace;background-color: #f0f8ff;border: 1px dotted black;border-radius: 0.25em;box-sizing: border-box;margin-bottom: 0.5em;}#sk-container-id-14 div.sk-estimator:hover {background-color: #d4ebff;}#sk-container-id-14 div.sk-parallel-item::after {content: \"\";width: 100%;border-bottom: 1px solid gray;flex-grow: 1;}#sk-container-id-14 div.sk-label:hover label.sk-toggleable__label {background-color: #d4ebff;}#sk-container-id-14 div.sk-serial::before {content: \"\";position: absolute;border-left: 1px solid gray;box-sizing: border-box;top: 0;bottom: 0;left: 50%;z-index: 0;}#sk-container-id-14 div.sk-serial {display: flex;flex-direction: column;align-items: center;background-color: white;padding-right: 0.2em;padding-left: 0.2em;position: relative;}#sk-container-id-14 div.sk-item {position: relative;z-index: 1;}#sk-container-id-14 div.sk-parallel {display: flex;align-items: stretch;justify-content: center;background-color: white;position: relative;}#sk-container-id-14 div.sk-item::before, #sk-container-id-14 div.sk-parallel-item::before {content: \"\";position: absolute;border-left: 1px solid gray;box-sizing: border-box;top: 0;bottom: 0;left: 50%;z-index: -1;}#sk-container-id-14 div.sk-parallel-item {display: flex;flex-direction: column;z-index: 1;position: relative;background-color: white;}#sk-container-id-14 div.sk-parallel-item:first-child::after {align-self: flex-end;width: 50%;}#sk-container-id-14 div.sk-parallel-item:last-child::after {align-self: flex-start;width: 50%;}#sk-container-id-14 div.sk-parallel-item:only-child::after {width: 0;}#sk-container-id-14 div.sk-dashed-wrapped {border: 1px dashed gray;margin: 0 0.4em 0.5em 0.4em;box-sizing: border-box;padding-bottom: 0.4em;background-color: white;}#sk-container-id-14 div.sk-label label {font-family: monospace;font-weight: bold;display: inline-block;line-height: 1.2em;}#sk-container-id-14 div.sk-label-container {text-align: center;}#sk-container-id-14 div.sk-container {/* jupyter's `normalize.less` sets `[hidden] { display: none; }` but bootstrap.min.css set `[hidden] { display: none !important; }` so we also need the `!important` here to be able to override the default hidden behavior on the sphinx rendered scikit-learn.org. See: https://github.com/scikit-learn/scikit-learn/issues/21755 */display: inline-block !important;position: relative;}#sk-container-id-14 div.sk-text-repr-fallback {display: none;}</style><div id=\"sk-container-id-14\" class=\"sk-top-container\"><div class=\"sk-text-repr-fallback\"><pre>VotingClassifier(estimators=[(&#x27;rfc&#x27;,\n",
              "                              RandomForestClassifier(criterion=&#x27;entropy&#x27;,\n",
              "                                                     random_state=42)),\n",
              "                             (&#x27;etc&#x27;,\n",
              "                              ExtraTreesClassifier(criterion=&#x27;entropy&#x27;,\n",
              "                                                   random_state=42)),\n",
              "                             (&#x27;dtc&#x27;,\n",
              "                              DecisionTreeClassifier(criterion=&#x27;entropy&#x27;,\n",
              "                                                     random_state=42)),\n",
              "                             (&#x27;gbc&#x27;,\n",
              "                              GradientBoostingClassifier(random_state=42)),\n",
              "                             (&#x27;bc&#x27;, BaggingClassifier(random_state=42))],\n",
              "                 voting=&#x27;soft&#x27;)</pre><b>In a Jupyter environment, please rerun this cell to show the HTML representation or trust the notebook. <br />On GitHub, the HTML representation is unable to render, please try loading this page with nbviewer.org.</b></div><div class=\"sk-container\" hidden><div class=\"sk-item sk-dashed-wrapped\"><div class=\"sk-label-container\"><div class=\"sk-label sk-toggleable\"><input class=\"sk-toggleable__control sk-hidden--visually\" id=\"sk-estimator-id-48\" type=\"checkbox\" ><label for=\"sk-estimator-id-48\" class=\"sk-toggleable__label sk-toggleable__label-arrow\">VotingClassifier</label><div class=\"sk-toggleable__content\"><pre>VotingClassifier(estimators=[(&#x27;rfc&#x27;,\n",
              "                              RandomForestClassifier(criterion=&#x27;entropy&#x27;,\n",
              "                                                     random_state=42)),\n",
              "                             (&#x27;etc&#x27;,\n",
              "                              ExtraTreesClassifier(criterion=&#x27;entropy&#x27;,\n",
              "                                                   random_state=42)),\n",
              "                             (&#x27;dtc&#x27;,\n",
              "                              DecisionTreeClassifier(criterion=&#x27;entropy&#x27;,\n",
              "                                                     random_state=42)),\n",
              "                             (&#x27;gbc&#x27;,\n",
              "                              GradientBoostingClassifier(random_state=42)),\n",
              "                             (&#x27;bc&#x27;, BaggingClassifier(random_state=42))],\n",
              "                 voting=&#x27;soft&#x27;)</pre></div></div></div><div class=\"sk-parallel\"><div class=\"sk-parallel-item\"><div class=\"sk-item\"><div class=\"sk-label-container\"><div class=\"sk-label sk-toggleable\"><label>rfc</label></div></div><div class=\"sk-serial\"><div class=\"sk-item\"><div class=\"sk-estimator sk-toggleable\"><input class=\"sk-toggleable__control sk-hidden--visually\" id=\"sk-estimator-id-49\" type=\"checkbox\" ><label for=\"sk-estimator-id-49\" class=\"sk-toggleable__label sk-toggleable__label-arrow\">RandomForestClassifier</label><div class=\"sk-toggleable__content\"><pre>RandomForestClassifier(criterion=&#x27;entropy&#x27;, random_state=42)</pre></div></div></div></div></div></div><div class=\"sk-parallel-item\"><div class=\"sk-item\"><div class=\"sk-label-container\"><div class=\"sk-label sk-toggleable\"><label>etc</label></div></div><div class=\"sk-serial\"><div class=\"sk-item\"><div class=\"sk-estimator sk-toggleable\"><input class=\"sk-toggleable__control sk-hidden--visually\" id=\"sk-estimator-id-50\" type=\"checkbox\" ><label for=\"sk-estimator-id-50\" class=\"sk-toggleable__label sk-toggleable__label-arrow\">ExtraTreesClassifier</label><div class=\"sk-toggleable__content\"><pre>ExtraTreesClassifier(criterion=&#x27;entropy&#x27;, random_state=42)</pre></div></div></div></div></div></div><div class=\"sk-parallel-item\"><div class=\"sk-item\"><div class=\"sk-label-container\"><div class=\"sk-label sk-toggleable\"><label>dtc</label></div></div><div class=\"sk-serial\"><div class=\"sk-item\"><div class=\"sk-estimator sk-toggleable\"><input class=\"sk-toggleable__control sk-hidden--visually\" id=\"sk-estimator-id-51\" type=\"checkbox\" ><label for=\"sk-estimator-id-51\" class=\"sk-toggleable__label sk-toggleable__label-arrow\">DecisionTreeClassifier</label><div class=\"sk-toggleable__content\"><pre>DecisionTreeClassifier(criterion=&#x27;entropy&#x27;, random_state=42)</pre></div></div></div></div></div></div><div class=\"sk-parallel-item\"><div class=\"sk-item\"><div class=\"sk-label-container\"><div class=\"sk-label sk-toggleable\"><label>gbc</label></div></div><div class=\"sk-serial\"><div class=\"sk-item\"><div class=\"sk-estimator sk-toggleable\"><input class=\"sk-toggleable__control sk-hidden--visually\" id=\"sk-estimator-id-52\" type=\"checkbox\" ><label for=\"sk-estimator-id-52\" class=\"sk-toggleable__label sk-toggleable__label-arrow\">GradientBoostingClassifier</label><div class=\"sk-toggleable__content\"><pre>GradientBoostingClassifier(random_state=42)</pre></div></div></div></div></div></div><div class=\"sk-parallel-item\"><div class=\"sk-item\"><div class=\"sk-label-container\"><div class=\"sk-label sk-toggleable\"><label>bc</label></div></div><div class=\"sk-serial\"><div class=\"sk-item\"><div class=\"sk-estimator sk-toggleable\"><input class=\"sk-toggleable__control sk-hidden--visually\" id=\"sk-estimator-id-53\" type=\"checkbox\" ><label for=\"sk-estimator-id-53\" class=\"sk-toggleable__label sk-toggleable__label-arrow\">BaggingClassifier</label><div class=\"sk-toggleable__content\"><pre>BaggingClassifier(random_state=42)</pre></div></div></div></div></div></div></div></div></div></div>"
            ],
            "text/plain": [
              "VotingClassifier(estimators=[('rfc',\n",
              "                              RandomForestClassifier(criterion='entropy',\n",
              "                                                     random_state=42)),\n",
              "                             ('etc',\n",
              "                              ExtraTreesClassifier(criterion='entropy',\n",
              "                                                   random_state=42)),\n",
              "                             ('dtc',\n",
              "                              DecisionTreeClassifier(criterion='entropy',\n",
              "                                                     random_state=42)),\n",
              "                             ('gbc',\n",
              "                              GradientBoostingClassifier(random_state=42)),\n",
              "                             ('bc', BaggingClassifier(random_state=42))],\n",
              "                 voting='soft')"
            ]
          },
          "execution_count": 295,
          "metadata": {},
          "output_type": "execute_result"
        }
      ],
      "source": [
        "#Y_train_2 = Y_train['Level2']\n",
        "#Y_test_2 = Y_test['Level2']\n",
        "\n",
        "from sklearn.preprocessing import LabelEncoder\n",
        "le = LabelEncoder()\n",
        "Y_train_c = le.fit_transform(Y_train_c)\n",
        "\n",
        "ensemble.fit(X_train_c, Y_train_c)"
      ]
    },
    {
      "cell_type": "code",
      "execution_count": 296,
      "id": "f702f43c",
      "metadata": {},
      "outputs": [
        {
          "name": "stdout",
          "output_type": "stream",
          "text": [
            "F1 score [0.94936709 0.91803279 0.93333333 0.75       0.97368421 0.98717949\n",
            " 0.93137255 0.88888889]\n",
            "              precision    recall  f1-score   support\n",
            "\n",
            "           1       0.94      0.96      0.95        78\n",
            "           2       0.92      0.91      0.92        92\n",
            "           3       0.95      0.91      0.93        23\n",
            "           4       1.00      0.60      0.75         5\n",
            "           5       0.95      1.00      0.97        37\n",
            "           6       0.97      1.00      0.99        77\n",
            "           7       0.95      0.91      0.93       104\n",
            "           8       0.88      0.90      0.89        71\n",
            "\n",
            "    accuracy                           0.94       487\n",
            "   macro avg       0.95      0.90      0.92       487\n",
            "weighted avg       0.94      0.94      0.94       487\n",
            "\n",
            "Confusion Matrix \n",
            "[[75  3  0  0  0  0  0  0]\n",
            " [ 4 84  1  0  0  1  0  2]\n",
            " [ 0  2 21  0  0  0  0  0]\n",
            " [ 0  0  0  3  2  0  0  0]\n",
            " [ 0  0  0  0 37  0  0  0]\n",
            " [ 0  0  0  0  0 77  0  0]\n",
            " [ 1  0  0  0  0  1 95  7]\n",
            " [ 0  2  0  0  0  0  5 64]]\n"
          ]
        }
      ],
      "source": [
        "predictions_3 = ensemble.predict(X_test_c)\n",
        "Y_test_c = le.transform(Y_test_c)\n",
        "print(\"F1 score\",f1_score(Y_test_c, predictions_3, average=None))\n",
        "print(classification_report(Y_test_c, predictions_3, target_names=['1','2','3','4','5','6','7','8']))\n",
        "print('Confusion Matrix \\n' + str(confusion_matrix(Y_test_c, predictions_3)))"
      ]
    },
    {
      "cell_type": "markdown",
      "id": "9d0ac10f",
      "metadata": {},
      "source": [
        "# Dynamic Implementation"
      ]
    },
    {
      "cell_type": "code",
      "execution_count": 297,
      "id": "5b22d6f4",
      "metadata": {},
      "outputs": [
        {
          "data": {
            "text/plain": [
              "\"\\nall_preds = []\\nthreshold_conf = 0.6\\nfor index in range(X_application.shape[0]):\\n    \\n    obs = scaler.transform([X_application.iloc[index].values])\\n    obs = obs.flatten()\\n    final_pred = 0\\n    #first layer:\\n    pred1 = ranForModel.predict([obs])[0]\\n    final_pred = pred1\\n    \\n    if pred1 == 1:\\n        pred_confs = xgbmodel.predict_proba([obs])\\n        pred2 = np.argmax(pred_confs, axis = 1)[0]\\n        if max(pred_confs).any() < threshold_conf:\\n            pred3 = ensemble.predict([obs])[0]\\n            pred3 += 1\\n            final_pred = pred3\\n            print('Critic! ' + str([pred1, pred2, pred_confs[0], pred3]) + ' ' + str(Y_application.iloc[index, 1]))\\n        else:\\n            final_pred = pred2\\n    else:\\n        pred2 = 'N'\\n        pred3 = 'N'\\n            \\n    all_preds.append([pred1, pred2, pred3, final_pred])\\n    \""
            ]
          },
          "execution_count": 297,
          "metadata": {},
          "output_type": "execute_result"
        }
      ],
      "source": [
        "# passing only the TOR entries to the second layer and passing second layer predictions with more than n % confidence to critique\n",
        "'''\n",
        "all_preds = []\n",
        "threshold_conf = 0.6\n",
        "for index in range(X_application.shape[0]):\n",
        "    \n",
        "    obs = scaler.transform([X_application.iloc[index].values])\n",
        "    obs = obs.flatten()\n",
        "    final_pred = 0\n",
        "    #first layer:\n",
        "    pred1 = ranForModel.predict([obs])[0]\n",
        "    final_pred = pred1\n",
        "    \n",
        "    if pred1 == 1:\n",
        "        pred_confs = xgbmodel.predict_proba([obs])\n",
        "        pred2 = np.argmax(pred_confs, axis = 1)[0]\n",
        "        if max(pred_confs).any() < threshold_conf:\n",
        "            pred3 = ensemble.predict([obs])[0]\n",
        "            pred3 += 1\n",
        "            final_pred = pred3\n",
        "            print('Critic! ' + str([pred1, pred2, pred_confs[0], pred3]) + ' ' + str(Y_application.iloc[index, 1]))\n",
        "        else:\n",
        "            final_pred = pred2\n",
        "    else:\n",
        "        pred2 = 'N'\n",
        "        pred3 = 'N'\n",
        "            \n",
        "    all_preds.append([pred1, pred2, pred3, final_pred])\n",
        "    '''"
      ]
    },
    {
      "cell_type": "code",
      "execution_count": 298,
      "id": "961c7de6",
      "metadata": {},
      "outputs": [
        {
          "data": {
            "text/plain": [
              "'\\nprint(\"F1 score\",f1_score(Y_application[\\'Level2\\'], (np.array(all_preds)[:, 3]).astype(int), average=None))\\nprint(classification_report(Y_application[\\'Level2\\'], (np.array(all_preds)[:, 3]).astype(int), target_names=[\\'0\\',\\'1\\',\\'2\\',\\'3\\',\\'4\\',\\'5\\',\\'6\\',\\'7\\',\\'8\\']))\\nprint(\\'Confusion Matrix \\n\\' + str(confusion_matrix(Y_application[\\'Level2\\'], (np.array(all_preds)[:, 3].astype(int)))))\\n'"
            ]
          },
          "execution_count": 298,
          "metadata": {},
          "output_type": "execute_result"
        }
      ],
      "source": [
        "'''\n",
        "print(\"F1 score\",f1_score(Y_application['Level2'], (np.array(all_preds)[:, 3]).astype(int), average=None))\n",
        "print(classification_report(Y_application['Level2'], (np.array(all_preds)[:, 3]).astype(int), target_names=['0','1','2','3','4','5','6','7','8']))\n",
        "print('Confusion Matrix \\n' + str(confusion_matrix(Y_application['Level2'], (np.array(all_preds)[:, 3].astype(int)))))\n",
        "'''"
      ]
    },
    {
      "cell_type": "code",
      "execution_count": 299,
      "id": "aa8d9f40",
      "metadata": {},
      "outputs": [
        {
          "name": "stdout",
          "output_type": "stream",
          "text": [
            "Critic! [1, 5, 3] 3\n",
            "Critic! [1, 6, 1] 1\n",
            "Critic! [1, 3, 2] 2\n",
            "Critic! [1, 2, 6] 6\n",
            "Critic! [1, 1, 1] 7\n",
            "Critic! [1, 5, 4] 4\n",
            "Critic! [1, 3, 2] 8\n",
            "Critic! [1, 2, 2] 1\n",
            "Critic! [1, 6, 6] 7\n",
            "Critic! [1, 2, 2] 2\n",
            "Critic! [1, 6, 7] 7\n",
            "Critic! [1, 2, 2] 8\n",
            "Critic! [1, 2, 6] 6\n",
            "Critic! [1, 2, 2] 2\n",
            "Critic! [1, 2, 2] 2\n",
            "Critic! [1, 3, 3] 3\n",
            "Critic! [1, 1, 5] 5\n",
            "Critic! [1, 8, 7] 7\n",
            "Critic! [1, 3, 3] 3\n",
            "Critic! [1, 2, 1] 2\n",
            "Critic! [1, 7, 8] 8\n",
            "Critic! [1, 6, 1] 1\n",
            "Critic! [1, 5, 4] 4\n",
            "Critic! [1, 5, 5] 5\n",
            "Critic! [1, 2, 2] 1\n",
            "Critic! [1, 8, 8] 2\n"
          ]
        }
      ],
      "source": [
        "# passing only the TOR entries to the second layer and passing second layer predictions with more than n % confidence to critique\n",
        "all_preds = []\n",
        "threshold_conf = 0.70\n",
        "for index in range(X_test.shape[0]):\n",
        "    \n",
        "    #obs = scaler.transform([X_test[index]])\n",
        "    #obs = obs.flatten()\n",
        "    obs = X_test[index].flatten()\n",
        "    final_pred = 0\n",
        "    #first layer:\n",
        "    pred1 = ranForModel.predict([obs])[0]\n",
        "    final_pred = pred1\n",
        "    \n",
        "    if pred1 == 1:\n",
        "        pred_confs = xgbmodel.predict_proba([obs])\n",
        "        #print(pred_confs)\n",
        "        pred2 = np.argmax(pred_confs)\n",
        "        if pred_confs[0].max() < threshold_conf and pred2 != 0:\n",
        "            pred3 = ensemble.predict([obs])[0]\n",
        "            pred3 += 1\n",
        "            final_pred = pred3\n",
        "            print('Critic! ' + str([pred1, pred2, pred3]) + ' ' + str(Y_test.iloc[index, 1]))\n",
        "        else:\n",
        "            final_pred = pred2\n",
        "            #if final_pred != Y_test.iloc[index, 1]:\n",
        "            #    print(pred_confs[0].max())\n",
        "\n",
        "    else:\n",
        "        pred2 = 'N'\n",
        "        pred3 = 'N'\n",
        "            \n",
        "    all_preds.append([pred1, pred2, pred3, final_pred])"
      ]
    },
    {
      "cell_type": "code",
      "execution_count": 300,
      "id": "1365f84a",
      "metadata": {},
      "outputs": [
        {
          "name": "stdout",
          "output_type": "stream",
          "text": [
            "F1 score [0.99992346 0.9375     0.88764045 0.93333333 0.66666667 0.94736842\n",
            " 0.99354839 0.92156863 0.88732394]\n",
            "              precision    recall  f1-score   support\n",
            "\n",
            "           0       1.00      1.00      1.00     32659\n",
            "           1       0.91      0.96      0.94        78\n",
            "           2       0.92      0.86      0.89        92\n",
            "           3       0.95      0.91      0.93        23\n",
            "           4       0.75      0.60      0.67         5\n",
            "           5       0.92      0.97      0.95        37\n",
            "           6       0.99      1.00      0.99        77\n",
            "           7       0.94      0.90      0.92       104\n",
            "           8       0.89      0.89      0.89        71\n",
            "\n",
            "    accuracy                           1.00     33146\n",
            "   macro avg       0.92      0.90      0.91     33146\n",
            "weighted avg       1.00      1.00      1.00     33146\n",
            "\n",
            "Confusion Matrix \n",
            "[[32659     0     0     0     0     0     0     0     0]\n",
            " [    0    75     3     0     0     0     0     0     0]\n",
            " [    3     6    79     1     0     1     0     0     2]\n",
            " [    0     0     2    21     0     0     0     0     0]\n",
            " [    0     0     0     0     3     2     0     0     0]\n",
            " [    0     0     0     0     1    36     0     0     0]\n",
            " [    0     0     0     0     0     0    77     0     0]\n",
            " [    2     1     0     0     0     0     1    94     6]\n",
            " [    0     0     2     0     0     0     0     6    63]]\n"
          ]
        }
      ],
      "source": [
        "print(\"F1 score\",f1_score(Y_test_2, (np.array(all_preds)[:, 3]).astype(int), average=None))\n",
        "print(classification_report(Y_test_2, (np.array(all_preds)[:, 3]).astype(int), target_names=['0','1','2','3','4','5','6','7','8']))\n",
        "print('Confusion Matrix \\n' + str(confusion_matrix(Y_test_2, (np.array(all_preds)[:, 3].astype(int)))))"
      ]
    }
  ],
  "metadata": {
    "colab": {
      "provenance": []
    },
    "kernelspec": {
      "display_name": "Python 3",
      "language": "python",
      "name": "python3"
    },
    "language_info": {
      "codemirror_mode": {
        "name": "ipython",
        "version": 3
      },
      "file_extension": ".py",
      "mimetype": "text/x-python",
      "name": "python",
      "nbconvert_exporter": "python",
      "pygments_lexer": "ipython3",
      "version": "3.10.7"
    },
    "vscode": {
      "interpreter": {
        "hash": "9bc7a9ac482943a28c48523d9f038b9f821e2dfddff5b4406757bf7aeebc3182"
      }
    }
  },
  "nbformat": 4,
  "nbformat_minor": 5
}
